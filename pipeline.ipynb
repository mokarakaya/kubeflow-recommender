{
 "cells": [
  {
   "cell_type": "code",
   "execution_count": 8,
   "metadata": {
    "tags": [
     "block:clone"
    ]
   },
   "outputs": [
    {
     "name": "stdout",
     "output_type": "stream",
     "text": [
      "error while fetching repo\n"
     ]
    }
   ],
   "source": [
    "import subprocess\n",
    "\n",
    "REPOSITORY='kubeflow-recommender'\n",
    "def run_sub(command, cwd=None):\n",
    "    print(subprocess.check_output(command.split(' '), cwd=cwd))\n",
    "\n",
    "try:\n",
    "    run_sub('git clone https://github.com/mokarakaya/kubeflow-recommender.git')\n",
    "except:\n",
    "    print('error while fetching repo')"
   ]
  },
  {
   "cell_type": "code",
   "execution_count": 9,
   "metadata": {
    "tags": [
     "block:checkout",
     "prev:clone"
    ]
   },
   "outputs": [
    {
     "name": "stdout",
     "output_type": "stream",
     "text": [
      "b\"D\\tUntitled1.ipynb\\nM\\tpipeline.ipynb\\nYour branch is up to date with 'origin/minikf-setup'.\\n\"\n",
      "b'Already up to date.\\n'\n"
     ]
    }
   ],
   "source": [
    "run_sub('git checkout minikf-setup', REPOSITORY)\n",
    "run_sub('git pull', REPOSITORY)"
   ]
  },
  {
   "cell_type": "code",
   "execution_count": 10,
   "metadata": {
    "tags": [
     "block:install",
     "prev:checkout"
    ]
   },
   "outputs": [
    {
     "name": "stdout",
     "output_type": "stream",
     "text": [
      "b'Requirement already satisfied: pandas in /usr/local/lib/python3.6/dist-packages (from -r requirements.txt (line 1)) (0.25.3)\\nCollecting pytest (from -r requirements.txt (line 2))\\n  Downloading https://files.pythonhosted.org/packages/b1/ee/53945d50284906adb1e613fabf2e1b8b25926e8676854bb25b93564c0ce7/pytest-6.1.2-py3-none-any.whl (272kB)\\nRequirement already satisfied: numpy in /usr/local/lib/python3.6/dist-packages (from -r requirements.txt (line 3)) (1.16.4)\\nCollecting lightfm (from -r requirements.txt (line 4))\\n  Downloading https://files.pythonhosted.org/packages/e9/8e/5485ac5a8616abe1c673d1e033e2f232b4319ab95424b42499fabff2257f/lightfm-1.15.tar.gz (302kB)\\nRequirement already satisfied: pytz>=2017.2 in /usr/local/lib/python3.6/dist-packages (from pandas->-r requirements.txt (line 1)) (2019.2)\\nRequirement already satisfied: python-dateutil>=2.6.1 in /usr/local/lib/python3.6/dist-packages (from pandas->-r requirements.txt (line 1)) (2.8.0)\\nCollecting py>=1.8.2 (from pytest->-r requirements.txt (line 2))\\n  Downloading https://files.pythonhosted.org/packages/68/0f/41a43535b52a81e4f29e420a151032d26f08b62206840c48d14b70e53376/py-1.9.0-py2.py3-none-any.whl (99kB)\\nRequirement already satisfied: importlib-metadata>=0.12; python_version < \"3.8\" in /usr/local/lib/python3.6/dist-packages (from pytest->-r requirements.txt (line 2)) (0.23)\\nCollecting packaging (from pytest->-r requirements.txt (line 2))\\n  Downloading https://files.pythonhosted.org/packages/46/19/c5ab91b1b05cfe63cccd5cfc971db9214c6dd6ced54e33c30d5af1d2bc43/packaging-20.4-py2.py3-none-any.whl\\nCollecting pluggy<1.0,>=0.12 (from pytest->-r requirements.txt (line 2))\\n  Downloading https://files.pythonhosted.org/packages/a0/28/85c7aa31b80d150b772fbe4a229487bc6644da9ccb7e427dd8cc60cb8a62/pluggy-0.13.1-py2.py3-none-any.whl\\nCollecting iniconfig (from pytest->-r requirements.txt (line 2))\\n  Downloading https://files.pythonhosted.org/packages/9b/dd/b3c12c6d707058fa947864b67f0c4e0c39ef8610988d7baea9578f3c48f3/iniconfig-1.1.1-py2.py3-none-any.whl\\nCollecting toml (from pytest->-r requirements.txt (line 2))\\n  Downloading https://files.pythonhosted.org/packages/44/6f/7120676b6d73228c96e17f1f794d8ab046fc910d781c8d151120c3f1569e/toml-0.10.2-py2.py3-none-any.whl\\nRequirement already satisfied: attrs>=17.4.0 in /usr/local/lib/python3.6/dist-packages (from pytest->-r requirements.txt (line 2)) (19.1.0)\\nRequirement already satisfied: scipy>=0.17.0 in /usr/local/lib/python3.6/dist-packages (from lightfm->-r requirements.txt (line 4)) (1.3.1)\\nRequirement already satisfied: requests in /usr/local/lib/python3.6/dist-packages (from lightfm->-r requirements.txt (line 4)) (2.22.0)\\nRequirement already satisfied: six>=1.5 in /usr/lib/python3/dist-packages (from python-dateutil>=2.6.1->pandas->-r requirements.txt (line 1)) (1.11.0)\\nRequirement already satisfied: zipp>=0.5 in /usr/local/lib/python3.6/dist-packages (from importlib-metadata>=0.12; python_version < \"3.8\"->pytest->-r requirements.txt (line 2)) (0.6.0)\\nRequirement already satisfied: pyparsing>=2.0.2 in /usr/local/lib/python3.6/dist-packages (from packaging->pytest->-r requirements.txt (line 2)) (2.4.0)\\nRequirement already satisfied: idna<2.9,>=2.5 in /usr/lib/python3/dist-packages (from requests->lightfm->-r requirements.txt (line 4)) (2.6)\\nRequirement already satisfied: urllib3!=1.25.0,!=1.25.1,<1.26,>=1.21.1 in /usr/local/lib/python3.6/dist-packages (from requests->lightfm->-r requirements.txt (line 4)) (1.24.3)\\nRequirement already satisfied: certifi>=2017.4.17 in /usr/local/lib/python3.6/dist-packages (from requests->lightfm->-r requirements.txt (line 4)) (2019.9.11)\\nRequirement already satisfied: chardet<3.1.0,>=3.0.2 in /usr/local/lib/python3.6/dist-packages (from requests->lightfm->-r requirements.txt (line 4)) (3.0.4)\\nRequirement already satisfied: more-itertools in /usr/local/lib/python3.6/dist-packages (from zipp>=0.5->importlib-metadata>=0.12; python_version < \"3.8\"->pytest->-r requirements.txt (line 2)) (7.2.0)\\nBuilding wheels for collected packages: lightfm\\n  Building wheel for lightfm (setup.py): started\\n  Building wheel for lightfm (setup.py): finished with status \\'done\\'\\n  Stored in directory: /home/jovyan/.cache/pip/wheels/eb/bb/ac/188385a5da6627956be5d9663928483b36da576149ab5b8f79\\nSuccessfully built lightfm\\nInstalling collected packages: py, packaging, pluggy, iniconfig, toml, pytest, lightfm\\nSuccessfully installed iniconfig-1.1.1 lightfm-1.15 packaging-20.4 pluggy-0.13.1 py-1.9.0 pytest-6.1.2 toml-0.10.2\\n'\n",
      "b'running build\\nrunning build_py\\ncreating build\\ncreating build/lib\\ncreating build/lib/steps\\ncopying steps/__init__.py -> build/lib/steps\\ncreating build/lib/steps/build_model_step\\ncopying steps/build_model_step/__init__.py -> build/lib/steps/build_model_step\\ncopying steps/build_model_step/util.py -> build/lib/steps/build_model_step\\ncopying steps/build_model_step/lightfm_builder.py -> build/lib/steps/build_model_step\\ncopying steps/build_model_step/build_model.py -> build/lib/steps/build_model_step\\ncopying steps/build_model_step/entrypoint_script.py -> build/lib/steps/build_model_step\\ncreating build/lib/steps/preprocess_step\\ncopying steps/preprocess_step/__init__.py -> build/lib/steps/preprocess_step\\ncopying steps/preprocess_step/preprocessor.py -> build/lib/steps/preprocess_step\\ncopying steps/preprocess_step/entrypoint_script.py -> build/lib/steps/preprocess_step\\ncopying steps/preprocess_step/preprocess.py -> build/lib/steps/preprocess_step\\n'\n",
      "b\"running install\\nrunning bdist_egg\\nrunning egg_info\\ncreating kubeflow_recommender.egg-info\\nwriting kubeflow_recommender.egg-info/PKG-INFO\\nwriting dependency_links to kubeflow_recommender.egg-info/dependency_links.txt\\nwriting requirements to kubeflow_recommender.egg-info/requires.txt\\nwriting top-level names to kubeflow_recommender.egg-info/top_level.txt\\nwriting manifest file 'kubeflow_recommender.egg-info/SOURCES.txt'\\nreading manifest file 'kubeflow_recommender.egg-info/SOURCES.txt'\\nwriting manifest file 'kubeflow_recommender.egg-info/SOURCES.txt'\\ninstalling library code to build/bdist.linux-x86_64/egg\\nrunning install_lib\\nrunning build_py\\ncreating build/bdist.linux-x86_64\\ncreating build/bdist.linux-x86_64/egg\\ncreating build/bdist.linux-x86_64/egg/steps\\ncopying build/lib/steps/__init__.py -> build/bdist.linux-x86_64/egg/steps\\ncreating build/bdist.linux-x86_64/egg/steps/build_model_step\\ncopying build/lib/steps/build_model_step/__init__.py -> build/bdist.linux-x86_64/egg/steps/build_model_step\\ncopying build/lib/steps/build_model_step/util.py -> build/bdist.linux-x86_64/egg/steps/build_model_step\\ncopying build/lib/steps/build_model_step/lightfm_builder.py -> build/bdist.linux-x86_64/egg/steps/build_model_step\\ncopying build/lib/steps/build_model_step/build_model.py -> build/bdist.linux-x86_64/egg/steps/build_model_step\\ncopying build/lib/steps/build_model_step/entrypoint_script.py -> build/bdist.linux-x86_64/egg/steps/build_model_step\\ncreating build/bdist.linux-x86_64/egg/steps/preprocess_step\\ncopying build/lib/steps/preprocess_step/__init__.py -> build/bdist.linux-x86_64/egg/steps/preprocess_step\\ncopying build/lib/steps/preprocess_step/preprocessor.py -> build/bdist.linux-x86_64/egg/steps/preprocess_step\\ncopying build/lib/steps/preprocess_step/entrypoint_script.py -> build/bdist.linux-x86_64/egg/steps/preprocess_step\\ncopying build/lib/steps/preprocess_step/preprocess.py -> build/bdist.linux-x86_64/egg/steps/preprocess_step\\nbyte-compiling build/bdist.linux-x86_64/egg/steps/__init__.py to __init__.cpython-36.pyc\\nbyte-compiling build/bdist.linux-x86_64/egg/steps/build_model_step/__init__.py to __init__.cpython-36.pyc\\nbyte-compiling build/bdist.linux-x86_64/egg/steps/build_model_step/util.py to util.cpython-36.pyc\\nbyte-compiling build/bdist.linux-x86_64/egg/steps/build_model_step/lightfm_builder.py to lightfm_builder.cpython-36.pyc\\nbyte-compiling build/bdist.linux-x86_64/egg/steps/build_model_step/build_model.py to build_model.cpython-36.pyc\\nbyte-compiling build/bdist.linux-x86_64/egg/steps/build_model_step/entrypoint_script.py to entrypoint_script.cpython-36.pyc\\nbyte-compiling build/bdist.linux-x86_64/egg/steps/preprocess_step/__init__.py to __init__.cpython-36.pyc\\nbyte-compiling build/bdist.linux-x86_64/egg/steps/preprocess_step/preprocessor.py to preprocessor.cpython-36.pyc\\nbyte-compiling build/bdist.linux-x86_64/egg/steps/preprocess_step/entrypoint_script.py to entrypoint_script.cpython-36.pyc\\nbyte-compiling build/bdist.linux-x86_64/egg/steps/preprocess_step/preprocess.py to preprocess.cpython-36.pyc\\ncreating build/bdist.linux-x86_64/egg/EGG-INFO\\ncopying kubeflow_recommender.egg-info/PKG-INFO -> build/bdist.linux-x86_64/egg/EGG-INFO\\ncopying kubeflow_recommender.egg-info/SOURCES.txt -> build/bdist.linux-x86_64/egg/EGG-INFO\\ncopying kubeflow_recommender.egg-info/dependency_links.txt -> build/bdist.linux-x86_64/egg/EGG-INFO\\ncopying kubeflow_recommender.egg-info/requires.txt -> build/bdist.linux-x86_64/egg/EGG-INFO\\ncopying kubeflow_recommender.egg-info/top_level.txt -> build/bdist.linux-x86_64/egg/EGG-INFO\\ncreating dist\\ncreating 'dist/kubeflow_recommender-0.0.1-py3.6.egg' and adding 'build/bdist.linux-x86_64/egg' to it\\nremoving 'build/bdist.linux-x86_64/egg' (and everything under it)\\nProcessing kubeflow_recommender-0.0.1-py3.6.egg\\nCopying kubeflow_recommender-0.0.1-py3.6.egg to /home/jovyan/.local/lib/python3.6/site-packages\\nAdding kubeflow-recommender 0.0.1 to easy-install.pth file\\n\\nInstalled /home/jovyan/.local/lib/python3.6/site-packages/kubeflow_recommender-0.0.1-py3.6.egg\\nProcessing dependencies for kubeflow-recommender==0.0.1\\nSearching for lightfm==1.15\\nBest match: lightfm 1.15\\nAdding lightfm 1.15 to easy-install.pth file\\n\\nUsing /home/jovyan/.local/lib/python3.6/site-packages\\nSearching for numpy==1.16.4\\nBest match: numpy 1.16.4\\nAdding numpy 1.16.4 to easy-install.pth file\\nInstalling f2py script to /home/jovyan/.local/bin\\nInstalling f2py3 script to /home/jovyan/.local/bin\\nInstalling f2py3.6 script to /home/jovyan/.local/bin\\n\\nUsing /usr/local/lib/python3.6/dist-packages\\nSearching for pytest==6.1.2\\nBest match: pytest 6.1.2\\nAdding pytest 6.1.2 to easy-install.pth file\\nInstalling py.test script to /home/jovyan/.local/bin\\nInstalling pytest script to /home/jovyan/.local/bin\\n\\nUsing /home/jovyan/.local/lib/python3.6/site-packages\\nSearching for pandas==0.25.3\\nBest match: pandas 0.25.3\\nAdding pandas 0.25.3 to easy-install.pth file\\n\\nUsing /usr/local/lib/python3.6/dist-packages\\nSearching for requests==2.22.0\\nBest match: requests 2.22.0\\nAdding requests 2.22.0 to easy-install.pth file\\n\\nUsing /usr/local/lib/python3.6/dist-packages\\nSearching for scipy==1.3.1\\nBest match: scipy 1.3.1\\nAdding scipy 1.3.1 to easy-install.pth file\\n\\nUsing /usr/local/lib/python3.6/dist-packages\\nSearching for importlib-metadata==0.23\\nBest match: importlib-metadata 0.23\\nAdding importlib-metadata 0.23 to easy-install.pth file\\n\\nUsing /usr/local/lib/python3.6/dist-packages\\nSearching for pluggy==0.13.1\\nBest match: pluggy 0.13.1\\nAdding pluggy 0.13.1 to easy-install.pth file\\n\\nUsing /home/jovyan/.local/lib/python3.6/site-packages\\nSearching for iniconfig==1.1.1\\nBest match: iniconfig 1.1.1\\nAdding iniconfig 1.1.1 to easy-install.pth file\\n\\nUsing /home/jovyan/.local/lib/python3.6/site-packages\\nSearching for packaging==20.4\\nBest match: packaging 20.4\\nAdding packaging 20.4 to easy-install.pth file\\n\\nUsing /home/jovyan/.local/lib/python3.6/site-packages\\nSearching for toml==0.10.2\\nBest match: toml 0.10.2\\nAdding toml 0.10.2 to easy-install.pth file\\n\\nUsing /home/jovyan/.local/lib/python3.6/site-packages\\nSearching for attrs==19.1.0\\nBest match: attrs 19.1.0\\nAdding attrs 19.1.0 to easy-install.pth file\\n\\nUsing /usr/local/lib/python3.6/dist-packages\\nSearching for py==1.9.0\\nBest match: py 1.9.0\\nAdding py 1.9.0 to easy-install.pth file\\n\\nUsing /home/jovyan/.local/lib/python3.6/site-packages\\nSearching for python-dateutil==2.8.0\\nBest match: python-dateutil 2.8.0\\nAdding python-dateutil 2.8.0 to easy-install.pth file\\n\\nUsing /usr/local/lib/python3.6/dist-packages\\nSearching for pytz==2019.2\\nBest match: pytz 2019.2\\nAdding pytz 2019.2 to easy-install.pth file\\n\\nUsing /usr/local/lib/python3.6/dist-packages\\nSearching for certifi==2019.9.11\\nBest match: certifi 2019.9.11\\nAdding certifi 2019.9.11 to easy-install.pth file\\n\\nUsing /usr/local/lib/python3.6/dist-packages\\nSearching for idna==2.6\\nBest match: idna 2.6\\nAdding idna 2.6 to easy-install.pth file\\n\\nUsing /usr/lib/python3/dist-packages\\nSearching for chardet==3.0.4\\nBest match: chardet 3.0.4\\nAdding chardet 3.0.4 to easy-install.pth file\\nInstalling chardetect script to /home/jovyan/.local/bin\\n\\nUsing /usr/local/lib/python3.6/dist-packages\\nSearching for urllib3==1.24.3\\nBest match: urllib3 1.24.3\\nAdding urllib3 1.24.3 to easy-install.pth file\\n\\nUsing /usr/local/lib/python3.6/dist-packages\\nSearching for zipp==0.6.0\\nBest match: zipp 0.6.0\\nAdding zipp 0.6.0 to easy-install.pth file\\n\\nUsing /usr/local/lib/python3.6/dist-packages\\nSearching for six==1.11.0\\nBest match: six 1.11.0\\nAdding six 1.11.0 to easy-install.pth file\\n\\nUsing /usr/lib/python3/dist-packages\\nSearching for pyparsing==2.4.0\\nBest match: pyparsing 2.4.0\\nAdding pyparsing 2.4.0 to easy-install.pth file\\n\\nUsing /usr/local/lib/python3.6/dist-packages\\nSearching for more-itertools==7.2.0\\nBest match: more-itertools 7.2.0\\nAdding more-itertools 7.2.0 to easy-install.pth file\\n\\nUsing /usr/local/lib/python3.6/dist-packages\\nFinished processing dependencies for kubeflow-recommender==0.0.1\\n\"\n"
     ]
    }
   ],
   "source": [
    "run_sub('pip install -r requirements.txt --user', REPOSITORY)\n",
    "run_sub('python setup.py build', REPOSITORY)\n",
    "run_sub('python setup.py install --user', REPOSITORY)\n"
   ]
  },
  {
   "cell_type": "code",
   "execution_count": 11,
   "metadata": {
    "tags": [
     "block:preprocess",
     "prev:install"
    ]
   },
   "outputs": [
    {
     "name": "stdout",
     "output_type": "stream",
     "text": [
      "b''\n"
     ]
    }
   ],
   "source": [
    "run_sub('python steps/preprocess_step/preprocess.py', REPOSITORY)"
   ]
  },
  {
   "cell_type": "code",
   "execution_count": 12,
   "metadata": {
    "tags": [
     "block:buildmodel",
     "prev:preprocess"
    ]
   },
   "outputs": [
    {
     "name": "stdout",
     "output_type": "stream",
     "text": [
      "b'start 2020-11-07 13:18:57.398571\\n[-3.0391283]\\n'\n"
     ]
    }
   ],
   "source": [
    "run_sub('python steps/build_model_step/build_model.py', REPOSITORY)"
   ]
  },
  {
   "cell_type": "code",
   "execution_count": 26,
   "metadata": {
    "tags": [
     "block:copymodel",
     "prev:buildmodel"
    ]
   },
   "outputs": [
    {
     "name": "stdout",
     "output_type": "stream",
     "text": [
      "b''\n"
     ]
    }
   ],
   "source": [
    "from datetime import datetime\n",
    "now = str(datetime.timestamp(datetime.now()))\n",
    "run_sub('gsutil cp lightfm.p gs://mokarakayamodels/staging/lightfm.p' + now , REPOSITORY)"
   ]
  },
  {
   "cell_type": "code",
   "execution_count": null,
   "metadata": {},
   "outputs": [],
   "source": []
  }
 ],
 "metadata": {
  "kernelspec": {
   "display_name": "Python 3",
   "language": "python",
   "name": "python3"
  },
  "kubeflow_notebook": {
   "docker_image": "gcr.io/arrikto-public/tensorflow-1.14.0-notebook-cpu:kubecon-workshop",
   "experiment": {
    "id": "new",
    "name": "rec-kale"
   },
   "experiment_name": "rec-kale",
   "pipeline_description": "rec-kale",
   "pipeline_name": "rec-kale",
   "volumes": [
    {
     "annotations": [],
     "mount_point": "/home/jovyan",
     "name": "workspace-rec-kale-8mligafjs",
     "size": 5,
     "size_type": "Gi",
     "snapshot": false,
     "type": "clone"
    },
    {
     "annotations": [],
     "mount_point": "/home/jovyan/recommender-data",
     "name": "recommender-data-kr6g48p5l",
     "size": 5,
     "size_type": "Gi",
     "snapshot": false,
     "type": "clone"
    }
   ]
  },
  "language_info": {
   "codemirror_mode": {
    "name": "ipython",
    "version": 3
   },
   "file_extension": ".py",
   "mimetype": "text/x-python",
   "name": "python",
   "nbconvert_exporter": "python",
   "pygments_lexer": "ipython3",
   "version": "3.6.8"
  }
 },
 "nbformat": 4,
 "nbformat_minor": 4
}
