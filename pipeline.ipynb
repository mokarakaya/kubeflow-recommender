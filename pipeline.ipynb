{
 "cells": [
  {
   "cell_type": "code",
   "execution_count": 1,
   "metadata": {
    "tags": [
     "block:clone"
    ]
   },
   "outputs": [
    {
     "data": {
      "text/plain": [
       "b''"
      ]
     },
     "execution_count": 1,
     "metadata": {},
     "output_type": "execute_result"
    }
   ],
   "source": [
    "import subprocess\n",
    "subprocess.check_output(['git', 'clone', 'https://github.com/mokarakaya/kubeflow-recommender.git'])"
   ]
  },
  {
   "cell_type": "code",
   "execution_count": 2,
   "metadata": {
    "tags": [
     "block:checkout",
     "prev:clone"
    ]
   },
   "outputs": [
    {
     "data": {
      "text/plain": [
       "b'Already up to date.\\n'"
      ]
     },
     "execution_count": 2,
     "metadata": {},
     "output_type": "execute_result"
    }
   ],
   "source": [
    "subprocess.check_output(['git', 'checkout', 'minikf-setup'], cwd='kubeflow-recommender')\n",
    "subprocess.check_output(['git', 'pull'], cwd='kubeflow-recommender')"
   ]
  },
  {
   "cell_type": "code",
   "execution_count": 3,
   "metadata": {
    "tags": [
     "block:install",
     "prev:checkout"
    ]
   },
   "outputs": [
    {
     "data": {
      "text/plain": [
       "b\"running install\\nrunning bdist_egg\\nrunning egg_info\\ncreating kubeflow_recommender.egg-info\\nwriting kubeflow_recommender.egg-info/PKG-INFO\\nwriting dependency_links to kubeflow_recommender.egg-info/dependency_links.txt\\nwriting requirements to kubeflow_recommender.egg-info/requires.txt\\nwriting top-level names to kubeflow_recommender.egg-info/top_level.txt\\nwriting manifest file 'kubeflow_recommender.egg-info/SOURCES.txt'\\nreading manifest file 'kubeflow_recommender.egg-info/SOURCES.txt'\\nwriting manifest file 'kubeflow_recommender.egg-info/SOURCES.txt'\\ninstalling library code to build/bdist.linux-x86_64/egg\\nrunning install_lib\\nrunning build_py\\ncreating build/bdist.linux-x86_64\\ncreating build/bdist.linux-x86_64/egg\\ncreating build/bdist.linux-x86_64/egg/steps\\ncopying build/lib/steps/__init__.py -> build/bdist.linux-x86_64/egg/steps\\ncreating build/bdist.linux-x86_64/egg/steps/preprocess_step\\ncopying build/lib/steps/preprocess_step/__init__.py -> build/bdist.linux-x86_64/egg/steps/preprocess_step\\ncopying build/lib/steps/preprocess_step/preprocessor.py -> build/bdist.linux-x86_64/egg/steps/preprocess_step\\ncopying build/lib/steps/preprocess_step/entrypoint_script.py -> build/bdist.linux-x86_64/egg/steps/preprocess_step\\ncopying build/lib/steps/preprocess_step/preprocess.py -> build/bdist.linux-x86_64/egg/steps/preprocess_step\\ncreating build/bdist.linux-x86_64/egg/steps/build_model_step\\ncopying build/lib/steps/build_model_step/build_model.py -> build/bdist.linux-x86_64/egg/steps/build_model_step\\ncopying build/lib/steps/build_model_step/__init__.py -> build/bdist.linux-x86_64/egg/steps/build_model_step\\ncopying build/lib/steps/build_model_step/lightfm_builder.py -> build/bdist.linux-x86_64/egg/steps/build_model_step\\ncopying build/lib/steps/build_model_step/util.py -> build/bdist.linux-x86_64/egg/steps/build_model_step\\ncopying build/lib/steps/build_model_step/entrypoint_script.py -> build/bdist.linux-x86_64/egg/steps/build_model_step\\nbyte-compiling build/bdist.linux-x86_64/egg/steps/__init__.py to __init__.cpython-36.pyc\\nbyte-compiling build/bdist.linux-x86_64/egg/steps/preprocess_step/__init__.py to __init__.cpython-36.pyc\\nbyte-compiling build/bdist.linux-x86_64/egg/steps/preprocess_step/preprocessor.py to preprocessor.cpython-36.pyc\\nbyte-compiling build/bdist.linux-x86_64/egg/steps/preprocess_step/entrypoint_script.py to entrypoint_script.cpython-36.pyc\\nbyte-compiling build/bdist.linux-x86_64/egg/steps/preprocess_step/preprocess.py to preprocess.cpython-36.pyc\\nbyte-compiling build/bdist.linux-x86_64/egg/steps/build_model_step/build_model.py to build_model.cpython-36.pyc\\nbyte-compiling build/bdist.linux-x86_64/egg/steps/build_model_step/__init__.py to __init__.cpython-36.pyc\\nbyte-compiling build/bdist.linux-x86_64/egg/steps/build_model_step/lightfm_builder.py to lightfm_builder.cpython-36.pyc\\nbyte-compiling build/bdist.linux-x86_64/egg/steps/build_model_step/util.py to util.cpython-36.pyc\\nbyte-compiling build/bdist.linux-x86_64/egg/steps/build_model_step/entrypoint_script.py to entrypoint_script.cpython-36.pyc\\ncreating build/bdist.linux-x86_64/egg/EGG-INFO\\ncopying kubeflow_recommender.egg-info/PKG-INFO -> build/bdist.linux-x86_64/egg/EGG-INFO\\ncopying kubeflow_recommender.egg-info/SOURCES.txt -> build/bdist.linux-x86_64/egg/EGG-INFO\\ncopying kubeflow_recommender.egg-info/dependency_links.txt -> build/bdist.linux-x86_64/egg/EGG-INFO\\ncopying kubeflow_recommender.egg-info/requires.txt -> build/bdist.linux-x86_64/egg/EGG-INFO\\ncopying kubeflow_recommender.egg-info/top_level.txt -> build/bdist.linux-x86_64/egg/EGG-INFO\\ncreating dist\\ncreating 'dist/kubeflow_recommender-0.0.1-py3.6.egg' and adding 'build/bdist.linux-x86_64/egg' to it\\nremoving 'build/bdist.linux-x86_64/egg' (and everything under it)\\nProcessing kubeflow_recommender-0.0.1-py3.6.egg\\nRemoving /home/jovyan/.local/lib/python3.6/site-packages/kubeflow_recommender-0.0.1-py3.6.egg\\nCopying kubeflow_recommender-0.0.1-py3.6.egg to /home/jovyan/.local/lib/python3.6/site-packages\\nkubeflow-recommender 0.0.1 is already the active version in easy-install.pth\\n\\nInstalled /home/jovyan/.local/lib/python3.6/site-packages/kubeflow_recommender-0.0.1-py3.6.egg\\nProcessing dependencies for kubeflow-recommender==0.0.1\\nSearching for lightfm==1.15\\nBest match: lightfm 1.15\\nAdding lightfm 1.15 to easy-install.pth file\\n\\nUsing /home/jovyan/.local/lib/python3.6/site-packages\\nSearching for numpy==1.16.4\\nBest match: numpy 1.16.4\\nAdding numpy 1.16.4 to easy-install.pth file\\nInstalling f2py script to /home/jovyan/.local/bin\\nInstalling f2py3 script to /home/jovyan/.local/bin\\nInstalling f2py3.6 script to /home/jovyan/.local/bin\\n\\nUsing /usr/local/lib/python3.6/dist-packages\\nSearching for pytest==6.1.2\\nBest match: pytest 6.1.2\\nAdding pytest 6.1.2 to easy-install.pth file\\nInstalling py.test script to /home/jovyan/.local/bin\\nInstalling pytest script to /home/jovyan/.local/bin\\n\\nUsing /home/jovyan/.local/lib/python3.6/site-packages\\nSearching for pandas==0.25.3\\nBest match: pandas 0.25.3\\nAdding pandas 0.25.3 to easy-install.pth file\\n\\nUsing /usr/local/lib/python3.6/dist-packages\\nSearching for requests==2.22.0\\nBest match: requests 2.22.0\\nAdding requests 2.22.0 to easy-install.pth file\\n\\nUsing /usr/local/lib/python3.6/dist-packages\\nSearching for scipy==1.3.1\\nBest match: scipy 1.3.1\\nAdding scipy 1.3.1 to easy-install.pth file\\n\\nUsing /usr/local/lib/python3.6/dist-packages\\nSearching for packaging==20.4\\nBest match: packaging 20.4\\nAdding packaging 20.4 to easy-install.pth file\\n\\nUsing /home/jovyan/.local/lib/python3.6/site-packages\\nSearching for py==1.9.0\\nBest match: py 1.9.0\\nAdding py 1.9.0 to easy-install.pth file\\n\\nUsing /home/jovyan/.local/lib/python3.6/site-packages\\nSearching for attrs==19.1.0\\nBest match: attrs 19.1.0\\nAdding attrs 19.1.0 to easy-install.pth file\\n\\nUsing /usr/local/lib/python3.6/dist-packages\\nSearching for importlib-metadata==0.23\\nBest match: importlib-metadata 0.23\\nAdding importlib-metadata 0.23 to easy-install.pth file\\n\\nUsing /usr/local/lib/python3.6/dist-packages\\nSearching for pluggy==0.13.1\\nBest match: pluggy 0.13.1\\nAdding pluggy 0.13.1 to easy-install.pth file\\n\\nUsing /home/jovyan/.local/lib/python3.6/site-packages\\nSearching for toml==0.10.2\\nBest match: toml 0.10.2\\nAdding toml 0.10.2 to easy-install.pth file\\n\\nUsing /home/jovyan/.local/lib/python3.6/site-packages\\nSearching for iniconfig==1.1.1\\nBest match: iniconfig 1.1.1\\nAdding iniconfig 1.1.1 to easy-install.pth file\\n\\nUsing /home/jovyan/.local/lib/python3.6/site-packages\\nSearching for pytz==2019.2\\nBest match: pytz 2019.2\\nAdding pytz 2019.2 to easy-install.pth file\\n\\nUsing /usr/local/lib/python3.6/dist-packages\\nSearching for python-dateutil==2.8.0\\nBest match: python-dateutil 2.8.0\\nAdding python-dateutil 2.8.0 to easy-install.pth file\\n\\nUsing /usr/local/lib/python3.6/dist-packages\\nSearching for certifi==2019.9.11\\nBest match: certifi 2019.9.11\\nAdding certifi 2019.9.11 to easy-install.pth file\\n\\nUsing /usr/local/lib/python3.6/dist-packages\\nSearching for urllib3==1.24.3\\nBest match: urllib3 1.24.3\\nAdding urllib3 1.24.3 to easy-install.pth file\\n\\nUsing /usr/local/lib/python3.6/dist-packages\\nSearching for chardet==3.0.4\\nBest match: chardet 3.0.4\\nAdding chardet 3.0.4 to easy-install.pth file\\nInstalling chardetect script to /home/jovyan/.local/bin\\n\\nUsing /usr/local/lib/python3.6/dist-packages\\nSearching for idna==2.6\\nBest match: idna 2.6\\nAdding idna 2.6 to easy-install.pth file\\n\\nUsing /usr/lib/python3/dist-packages\\nSearching for six==1.11.0\\nBest match: six 1.11.0\\nAdding six 1.11.0 to easy-install.pth file\\n\\nUsing /usr/lib/python3/dist-packages\\nSearching for pyparsing==2.4.0\\nBest match: pyparsing 2.4.0\\nAdding pyparsing 2.4.0 to easy-install.pth file\\n\\nUsing /usr/local/lib/python3.6/dist-packages\\nSearching for zipp==0.6.0\\nBest match: zipp 0.6.0\\nAdding zipp 0.6.0 to easy-install.pth file\\n\\nUsing /usr/local/lib/python3.6/dist-packages\\nSearching for more-itertools==7.2.0\\nBest match: more-itertools 7.2.0\\nAdding more-itertools 7.2.0 to easy-install.pth file\\n\\nUsing /usr/local/lib/python3.6/dist-packages\\nFinished processing dependencies for kubeflow-recommender==0.0.1\\n\""
      ]
     },
     "execution_count": 3,
     "metadata": {},
     "output_type": "execute_result"
    }
   ],
   "source": [
    "subprocess.check_output(['pip', 'install', '-r', 'requirements.txt', '--user'], cwd='kubeflow-recommender')\n",
    "subprocess.check_output(['python', 'setup.py', 'build'], cwd='kubeflow-recommender')\n",
    "subprocess.check_output(['python', 'setup.py', 'install', '--user'], cwd='kubeflow-recommender')\n"
   ]
  },
  {
   "cell_type": "code",
   "execution_count": 4,
   "metadata": {
    "tags": [
     "block:preprocess",
     "prev:install"
    ]
   },
   "outputs": [
    {
     "data": {
      "text/plain": [
       "b''"
      ]
     },
     "execution_count": 4,
     "metadata": {},
     "output_type": "execute_result"
    }
   ],
   "source": [
    "subprocess.check_output(['python', 'steps/preprocess_step/preprocess.py'], cwd='kubeflow-recommender')"
   ]
  },
  {
   "cell_type": "code",
   "execution_count": 5,
   "metadata": {
    "tags": [
     "block:buildmodel",
     "prev:preprocess"
    ]
   },
   "outputs": [
    {
     "data": {
      "text/plain": [
       "b'start 2020-11-07 10:54:25.606214\\n[-3.53689432]\\n'"
      ]
     },
     "execution_count": 5,
     "metadata": {},
     "output_type": "execute_result"
    }
   ],
   "source": [
    "subprocess.check_output(['python', 'steps/build_model_step/build_model.py'], cwd='kubeflow-recommender')"
   ]
  }
 ],
 "metadata": {
  "kernelspec": {
   "display_name": "Python 3",
   "language": "python",
   "name": "python3"
  },
  "kubeflow_notebook": {
   "docker_image": "gcr.io/arrikto-public/tensorflow-1.14.0-notebook-cpu:kubecon-workshop",
   "experiment": {
    "id": "new",
    "name": "rec-kale"
   },
   "experiment_name": "rec-kale",
   "pipeline_description": "rec-kale",
   "pipeline_name": "rec-kale",
   "volumes": [
    {
     "annotations": [],
     "mount_point": "/home/jovyan",
     "name": "workspace-recommender-kale-rurabvcwa",
     "size": 5,
     "size_type": "Gi",
     "snapshot": false,
     "type": "clone"
    },
    {
     "annotations": [],
     "mount_point": "/home/jovyan/recommender-data",
     "name": "recommender-data-qezwm7gn4",
     "size": 5,
     "size_type": "Gi",
     "snapshot": false,
     "type": "clone"
    }
   ]
  },
  "language_info": {
   "codemirror_mode": {
    "name": "ipython",
    "version": 3
   },
   "file_extension": ".py",
   "mimetype": "text/x-python",
   "name": "python",
   "nbconvert_exporter": "python",
   "pygments_lexer": "ipython3",
   "version": "3.6.8"
  }
 },
 "nbformat": 4,
 "nbformat_minor": 4
}
