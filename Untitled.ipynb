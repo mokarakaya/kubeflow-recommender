{
 "cells": [
  {
   "cell_type": "code",
   "execution_count": 1,
   "metadata": {
    "tags": [
     "block:importrec"
    ]
   },
   "outputs": [
    {
     "name": "stdout",
     "output_type": "stream",
     "text": [
      "b''\n",
      "b'Python 3.6.9\\n'\n"
     ]
    }
   ],
   "source": [
    "import subprocess\n",
    "\n",
    "REPOSITORY='kubeflow-recommender'\n",
    "def run_sub(command, cwd=None):\n",
    "    print(subprocess.check_output(command.split(' '), cwd=cwd))\n",
    "\n",
    "try:\n",
    "    run_sub('git clone https://github.com/mokarakaya/kubeflow-recommender.git')\n",
    "except:\n",
    "    print('error while fetching repo')\n",
    "run_sub('python3 --version', REPOSITORY)"
   ]
  },
  {
   "cell_type": "code",
   "execution_count": 2,
   "metadata": {
    "tags": [
     "block:pullrec",
     "prev:importrec"
    ]
   },
   "outputs": [
    {
     "name": "stdout",
     "output_type": "stream",
     "text": [
      "b\"Branch 'minikf-setup' set up to track remote branch 'minikf-setup' from 'origin'.\\n\"\n",
      "b'Already up to date.\\n'\n"
     ]
    }
   ],
   "source": [
    "run_sub('git checkout minikf-setup', REPOSITORY)\n",
    "run_sub('git pull', REPOSITORY)"
   ]
  },
  {
   "cell_type": "code",
   "execution_count": 3,
   "metadata": {
    "tags": [
     "block:installrec",
     "prev:pullrec"
    ]
   },
   "outputs": [
    {
     "name": "stdout",
     "output_type": "stream",
     "text": [
      "b'Defaulting to user installation because normal site-packages is not writeable\\nCollecting pandas\\n  Downloading pandas-1.1.4-cp36-cp36m-manylinux1_x86_64.whl (9.5 MB)\\nRequirement already satisfied: pytest in /usr/local/lib/python3.6/dist-packages (from -r requirements.txt (line 2)) (5.4.3)\\nRequirement already satisfied: numpy in /usr/local/lib/python3.6/dist-packages (from -r requirements.txt (line 3)) (1.19.0)\\nCollecting lightfm\\n  Downloading lightfm-1.15.tar.gz (302 kB)\\nRequirement already satisfied: python-dateutil>=2.7.3 in /usr/local/lib/python3.6/dist-packages (from pandas->-r requirements.txt (line 1)) (2.8.1)\\nRequirement already satisfied: pytz>=2017.2 in /usr/local/lib/python3.6/dist-packages (from pandas->-r requirements.txt (line 1)) (2020.1)\\nRequirement already satisfied: wcwidth in /usr/local/lib/python3.6/dist-packages (from pytest->-r requirements.txt (line 2)) (0.2.5)\\nRequirement already satisfied: attrs>=17.4.0 in /usr/local/lib/python3.6/dist-packages (from pytest->-r requirements.txt (line 2)) (19.3.0)\\nRequirement already satisfied: packaging in /usr/local/lib/python3.6/dist-packages (from pytest->-r requirements.txt (line 2)) (20.4)\\nRequirement already satisfied: more-itertools>=4.0.0 in /usr/local/lib/python3.6/dist-packages (from pytest->-r requirements.txt (line 2)) (8.4.0)\\nRequirement already satisfied: py>=1.5.0 in /usr/local/lib/python3.6/dist-packages (from pytest->-r requirements.txt (line 2)) (1.9.0)\\nRequirement already satisfied: importlib-metadata>=0.12; python_version < \"3.8\" in /usr/local/lib/python3.6/dist-packages (from pytest->-r requirements.txt (line 2)) (1.7.0)\\nRequirement already satisfied: pluggy<1.0,>=0.12 in /usr/local/lib/python3.6/dist-packages (from pytest->-r requirements.txt (line 2)) (0.13.1)\\nRequirement already satisfied: scipy>=0.17.0 in /usr/local/lib/python3.6/dist-packages (from lightfm->-r requirements.txt (line 4)) (1.4.1)\\nRequirement already satisfied: requests in /usr/local/lib/python3.6/dist-packages (from lightfm->-r requirements.txt (line 4)) (2.24.0)\\nRequirement already satisfied: six>=1.5 in /usr/local/lib/python3.6/dist-packages (from python-dateutil>=2.7.3->pandas->-r requirements.txt (line 1)) (1.15.0)\\nRequirement already satisfied: pyparsing>=2.0.2 in /usr/local/lib/python3.6/dist-packages (from packaging->pytest->-r requirements.txt (line 2)) (2.4.7)\\nRequirement already satisfied: zipp>=0.5 in /usr/local/lib/python3.6/dist-packages (from importlib-metadata>=0.12; python_version < \"3.8\"->pytest->-r requirements.txt (line 2)) (3.1.0)\\nRequirement already satisfied: chardet<4,>=3.0.2 in /usr/local/lib/python3.6/dist-packages (from requests->lightfm->-r requirements.txt (line 4)) (3.0.4)\\nRequirement already satisfied: idna<3,>=2.5 in /usr/local/lib/python3.6/dist-packages (from requests->lightfm->-r requirements.txt (line 4)) (2.10)\\nRequirement already satisfied: urllib3!=1.25.0,!=1.25.1,<1.26,>=1.21.1 in /usr/local/lib/python3.6/dist-packages (from requests->lightfm->-r requirements.txt (line 4)) (1.25.9)\\nRequirement already satisfied: certifi>=2017.4.17 in /usr/local/lib/python3.6/dist-packages (from requests->lightfm->-r requirements.txt (line 4)) (2020.6.20)\\nBuilding wheels for collected packages: lightfm\\n  Building wheel for lightfm (setup.py): started\\n  Building wheel for lightfm (setup.py): finished with status \\'done\\'\\n  Created wheel for lightfm: filename=lightfm-1.15-cp36-cp36m-linux_x86_64.whl size=710036 sha256=91ac1af5f374dc0add7ef03152e278e8005063ac75b1ed039ca09e06fed02dfd\\n  Stored in directory: /home/jovyan/.cache/pip/wheels/5c/c4/11/86bfcd8abe740857bccd33ff7b458cb7cc2bca829d75545768\\nSuccessfully built lightfm\\nInstalling collected packages: pandas, lightfm\\nSuccessfully installed lightfm-1.15 pandas-1.1.4\\n'\n",
      "b'running build\\nrunning build_py\\ncreating build\\ncreating build/lib\\ncreating build/lib/steps\\ncopying steps/__init__.py -> build/lib/steps\\ncreating build/lib/steps/preprocess_step\\ncopying steps/preprocess_step/__init__.py -> build/lib/steps/preprocess_step\\ncopying steps/preprocess_step/entrypoint_script.py -> build/lib/steps/preprocess_step\\ncopying steps/preprocess_step/preprocessor.py -> build/lib/steps/preprocess_step\\ncopying steps/preprocess_step/preprocess.py -> build/lib/steps/preprocess_step\\ncreating build/lib/steps/build_model_step\\ncopying steps/build_model_step/__init__.py -> build/lib/steps/build_model_step\\ncopying steps/build_model_step/entrypoint_script.py -> build/lib/steps/build_model_step\\ncopying steps/build_model_step/build_model.py -> build/lib/steps/build_model_step\\ncopying steps/build_model_step/util.py -> build/lib/steps/build_model_step\\ncopying steps/build_model_step/lightfm_builder.py -> build/lib/steps/build_model_step\\n'\n",
      "b\"running install\\nrunning bdist_egg\\nrunning egg_info\\ncreating kubeflow_recommender.egg-info\\nwriting kubeflow_recommender.egg-info/PKG-INFO\\nwriting dependency_links to kubeflow_recommender.egg-info/dependency_links.txt\\nwriting requirements to kubeflow_recommender.egg-info/requires.txt\\nwriting top-level names to kubeflow_recommender.egg-info/top_level.txt\\nwriting manifest file 'kubeflow_recommender.egg-info/SOURCES.txt'\\nreading manifest file 'kubeflow_recommender.egg-info/SOURCES.txt'\\nwriting manifest file 'kubeflow_recommender.egg-info/SOURCES.txt'\\ninstalling library code to build/bdist.linux-x86_64/egg\\nrunning install_lib\\nrunning build_py\\ncreating build/bdist.linux-x86_64\\ncreating build/bdist.linux-x86_64/egg\\ncreating build/bdist.linux-x86_64/egg/steps\\ncopying build/lib/steps/__init__.py -> build/bdist.linux-x86_64/egg/steps\\ncreating build/bdist.linux-x86_64/egg/steps/preprocess_step\\ncopying build/lib/steps/preprocess_step/__init__.py -> build/bdist.linux-x86_64/egg/steps/preprocess_step\\ncopying build/lib/steps/preprocess_step/entrypoint_script.py -> build/bdist.linux-x86_64/egg/steps/preprocess_step\\ncopying build/lib/steps/preprocess_step/preprocessor.py -> build/bdist.linux-x86_64/egg/steps/preprocess_step\\ncopying build/lib/steps/preprocess_step/preprocess.py -> build/bdist.linux-x86_64/egg/steps/preprocess_step\\ncreating build/bdist.linux-x86_64/egg/steps/build_model_step\\ncopying build/lib/steps/build_model_step/__init__.py -> build/bdist.linux-x86_64/egg/steps/build_model_step\\ncopying build/lib/steps/build_model_step/entrypoint_script.py -> build/bdist.linux-x86_64/egg/steps/build_model_step\\ncopying build/lib/steps/build_model_step/build_model.py -> build/bdist.linux-x86_64/egg/steps/build_model_step\\ncopying build/lib/steps/build_model_step/util.py -> build/bdist.linux-x86_64/egg/steps/build_model_step\\ncopying build/lib/steps/build_model_step/lightfm_builder.py -> build/bdist.linux-x86_64/egg/steps/build_model_step\\nbyte-compiling build/bdist.linux-x86_64/egg/steps/__init__.py to __init__.cpython-36.pyc\\nbyte-compiling build/bdist.linux-x86_64/egg/steps/preprocess_step/__init__.py to __init__.cpython-36.pyc\\nbyte-compiling build/bdist.linux-x86_64/egg/steps/preprocess_step/entrypoint_script.py to entrypoint_script.cpython-36.pyc\\nbyte-compiling build/bdist.linux-x86_64/egg/steps/preprocess_step/preprocessor.py to preprocessor.cpython-36.pyc\\nbyte-compiling build/bdist.linux-x86_64/egg/steps/preprocess_step/preprocess.py to preprocess.cpython-36.pyc\\nbyte-compiling build/bdist.linux-x86_64/egg/steps/build_model_step/__init__.py to __init__.cpython-36.pyc\\nbyte-compiling build/bdist.linux-x86_64/egg/steps/build_model_step/entrypoint_script.py to entrypoint_script.cpython-36.pyc\\nbyte-compiling build/bdist.linux-x86_64/egg/steps/build_model_step/build_model.py to build_model.cpython-36.pyc\\nbyte-compiling build/bdist.linux-x86_64/egg/steps/build_model_step/util.py to util.cpython-36.pyc\\nbyte-compiling build/bdist.linux-x86_64/egg/steps/build_model_step/lightfm_builder.py to lightfm_builder.cpython-36.pyc\\ncreating build/bdist.linux-x86_64/egg/EGG-INFO\\ncopying kubeflow_recommender.egg-info/PKG-INFO -> build/bdist.linux-x86_64/egg/EGG-INFO\\ncopying kubeflow_recommender.egg-info/SOURCES.txt -> build/bdist.linux-x86_64/egg/EGG-INFO\\ncopying kubeflow_recommender.egg-info/dependency_links.txt -> build/bdist.linux-x86_64/egg/EGG-INFO\\ncopying kubeflow_recommender.egg-info/requires.txt -> build/bdist.linux-x86_64/egg/EGG-INFO\\ncopying kubeflow_recommender.egg-info/top_level.txt -> build/bdist.linux-x86_64/egg/EGG-INFO\\ncreating dist\\ncreating 'dist/kubeflow_recommender-0.0.1-py3.6.egg' and adding 'build/bdist.linux-x86_64/egg' to it\\nremoving 'build/bdist.linux-x86_64/egg' (and everything under it)\\nProcessing kubeflow_recommender-0.0.1-py3.6.egg\\nCopying kubeflow_recommender-0.0.1-py3.6.egg to /home/jovyan/.local/lib/python3.6/site-packages\\nAdding kubeflow-recommender 0.0.1 to easy-install.pth file\\n\\nInstalled /home/jovyan/.local/lib/python3.6/site-packages/kubeflow_recommender-0.0.1-py3.6.egg\\nProcessing dependencies for kubeflow-recommender==0.0.1\\nSearching for lightfm==1.15\\nBest match: lightfm 1.15\\nAdding lightfm 1.15 to easy-install.pth file\\n\\nUsing /home/jovyan/.local/lib/python3.6/site-packages\\nSearching for numpy==1.19.0\\nBest match: numpy 1.19.0\\nAdding numpy 1.19.0 to easy-install.pth file\\nInstalling f2py script to /home/jovyan/.local/bin\\nInstalling f2py3 script to /home/jovyan/.local/bin\\nInstalling f2py3.6 script to /home/jovyan/.local/bin\\n\\nUsing /usr/local/lib/python3.6/dist-packages\\nSearching for pytest==5.4.3\\nBest match: pytest 5.4.3\\nAdding pytest 5.4.3 to easy-install.pth file\\nInstalling py.test script to /home/jovyan/.local/bin\\nInstalling pytest script to /home/jovyan/.local/bin\\n\\nUsing /usr/local/lib/python3.6/dist-packages\\nSearching for pandas==1.1.4\\nBest match: pandas 1.1.4\\nAdding pandas 1.1.4 to easy-install.pth file\\n\\nUsing /home/jovyan/.local/lib/python3.6/site-packages\\nSearching for scipy==1.4.1\\nBest match: scipy 1.4.1\\nAdding scipy 1.4.1 to easy-install.pth file\\n\\nUsing /usr/local/lib/python3.6/dist-packages\\nSearching for requests==2.24.0\\nBest match: requests 2.24.0\\nAdding requests 2.24.0 to easy-install.pth file\\n\\nUsing /usr/local/lib/python3.6/dist-packages\\nSearching for wcwidth==0.2.5\\nBest match: wcwidth 0.2.5\\nAdding wcwidth 0.2.5 to easy-install.pth file\\n\\nUsing /usr/local/lib/python3.6/dist-packages\\nSearching for importlib-metadata==1.7.0\\nBest match: importlib-metadata 1.7.0\\nAdding importlib-metadata 1.7.0 to easy-install.pth file\\n\\nUsing /usr/local/lib/python3.6/dist-packages\\nSearching for more-itertools==8.4.0\\nBest match: more-itertools 8.4.0\\nAdding more-itertools 8.4.0 to easy-install.pth file\\n\\nUsing /usr/local/lib/python3.6/dist-packages\\nSearching for packaging==20.4\\nBest match: packaging 20.4\\nAdding packaging 20.4 to easy-install.pth file\\n\\nUsing /usr/local/lib/python3.6/dist-packages\\nSearching for py==1.9.0\\nBest match: py 1.9.0\\nAdding py 1.9.0 to easy-install.pth file\\n\\nUsing /usr/local/lib/python3.6/dist-packages\\nSearching for pluggy==0.13.1\\nBest match: pluggy 0.13.1\\nAdding pluggy 0.13.1 to easy-install.pth file\\n\\nUsing /usr/local/lib/python3.6/dist-packages\\nSearching for attrs==19.3.0\\nBest match: attrs 19.3.0\\nAdding attrs 19.3.0 to easy-install.pth file\\n\\nUsing /usr/local/lib/python3.6/dist-packages\\nSearching for pytz==2020.1\\nBest match: pytz 2020.1\\nAdding pytz 2020.1 to easy-install.pth file\\n\\nUsing /usr/local/lib/python3.6/dist-packages\\nSearching for python-dateutil==2.8.1\\nBest match: python-dateutil 2.8.1\\nAdding python-dateutil 2.8.1 to easy-install.pth file\\n\\nUsing /usr/local/lib/python3.6/dist-packages\\nSearching for chardet==3.0.4\\nBest match: chardet 3.0.4\\nAdding chardet 3.0.4 to easy-install.pth file\\nInstalling chardetect script to /home/jovyan/.local/bin\\n\\nUsing /usr/local/lib/python3.6/dist-packages\\nSearching for idna==2.10\\nBest match: idna 2.10\\nAdding idna 2.10 to easy-install.pth file\\n\\nUsing /usr/local/lib/python3.6/dist-packages\\nSearching for urllib3==1.25.9\\nBest match: urllib3 1.25.9\\nAdding urllib3 1.25.9 to easy-install.pth file\\n\\nUsing /usr/local/lib/python3.6/dist-packages\\nSearching for certifi==2020.6.20\\nBest match: certifi 2020.6.20\\nAdding certifi 2020.6.20 to easy-install.pth file\\n\\nUsing /usr/local/lib/python3.6/dist-packages\\nSearching for zipp==3.1.0\\nBest match: zipp 3.1.0\\nAdding zipp 3.1.0 to easy-install.pth file\\n\\nUsing /usr/local/lib/python3.6/dist-packages\\nSearching for pyparsing==2.4.7\\nBest match: pyparsing 2.4.7\\nAdding pyparsing 2.4.7 to easy-install.pth file\\n\\nUsing /usr/local/lib/python3.6/dist-packages\\nSearching for six==1.15.0\\nBest match: six 1.15.0\\nAdding six 1.15.0 to easy-install.pth file\\n\\nUsing /usr/local/lib/python3.6/dist-packages\\nFinished processing dependencies for kubeflow-recommender==0.0.1\\n\"\n"
     ]
    }
   ],
   "source": [
    "run_sub('pip3 install -r requirements.txt', REPOSITORY)\n",
    "run_sub('python3 setup.py build', REPOSITORY)\n",
    "run_sub('python3 setup.py install --user', REPOSITORY)"
   ]
  },
  {
   "cell_type": "code",
   "execution_count": 4,
   "metadata": {
    "tags": [
     "block:preprocessrec",
     "prev:installrec"
    ]
   },
   "outputs": [
    {
     "name": "stdout",
     "output_type": "stream",
     "text": [
      "b''\n"
     ]
    }
   ],
   "source": [
    "run_sub('python3 steps/preprocess_step/preprocess.py', REPOSITORY)"
   ]
  },
  {
   "cell_type": "code",
   "execution_count": 5,
   "metadata": {
    "tags": [
     "block:buildrec",
     "prev:preprocessrec"
    ]
   },
   "outputs": [
    {
     "name": "stdout",
     "output_type": "stream",
     "text": [
      "b'start 2020-11-08 22:15:58.320185\\n[-3.93898106]\\n'\n"
     ]
    }
   ],
   "source": [
    "run_sub('python3 steps/build_model_step/build_model.py', REPOSITORY)"
   ]
  },
  {
   "cell_type": "code",
   "execution_count": 6,
   "metadata": {
    "tags": [
     "block:saverec",
     "prev:buildrec"
    ]
   },
   "outputs": [
    {
     "name": "stdout",
     "output_type": "stream",
     "text": [
      "b''\n"
     ]
    }
   ],
   "source": [
    "from datetime import datetime\n",
    "now = str(datetime.timestamp(datetime.now()))\n",
    "run_sub('gsutil cp lightfm.p gs://mokarakayamodels2/staging/lightfm.p' + now , REPOSITORY)"
   ]
  }
 ],
 "metadata": {
  "kernelspec": {
   "display_name": "Python 3",
   "language": "python",
   "name": "python3"
  },
  "kubeflow_notebook": {
   "autosnapshot": true,
   "docker_image": "gcr.io/arrikto/jupyter-kale:v0.5.0-47-g2427cc9",
   "experiment": {
    "id": "new",
    "name": "experiment2"
   },
   "experiment_name": "experiment2",
   "katib_run": false,
   "pipeline_description": "pipeline",
   "pipeline_name": "pipeline2",
   "snapshot_volumes": true,
   "steps_defaults": [
    "label:access-ml-pipeline:true",
    "label:access-rok:true"
   ],
   "volumes": [
    {
     "annotations": [],
     "mount_point": "/home/jovyan",
     "name": "workspace-jupyter-kale-05-1-2s0txj2ty",
     "size": 5,
     "size_type": "Gi",
     "snapshot": false,
     "type": "clone"
    },
    {
     "annotations": [],
     "mount_point": "/home/jovyan/jupyter-kale-05-1-vol-1",
     "name": "jupyter-kale-05-1-vol-1-cqvv2obcc",
     "size": 5,
     "size_type": "Gi",
     "snapshot": false,
     "type": "clone"
    }
   ]
  },
  "language_info": {
   "codemirror_mode": {
    "name": "ipython",
    "version": 3
   },
   "file_extension": ".py",
   "mimetype": "text/x-python",
   "name": "python",
   "nbconvert_exporter": "python",
   "pygments_lexer": "ipython3",
   "version": "3.6.9"
  }
 },
 "nbformat": 4,
 "nbformat_minor": 4
}
